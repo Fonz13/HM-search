{
 "cells": [
  {
   "cell_type": "code",
   "execution_count": 1,
   "metadata": {},
   "outputs": [],
   "source": [
    "import pandas as pd\n",
    "import requests\n",
    "from PIL import Image\n",
    "from io import BytesIO\n",
    "from tqdm.notebook import tqdm\n",
    "from concurrent.futures import ThreadPoolExecutor\n",
    "from collections import Counter\n",
    "import os\n",
    "\n",
    "#request, pandas, pillow, tqdm\n"
   ]
  },
  {
   "cell_type": "code",
   "execution_count": 4,
   "metadata": {},
   "outputs": [
    {
     "data": {
      "text/html": [
       "<div>\n",
       "<style scoped>\n",
       "    .dataframe tbody tr th:only-of-type {\n",
       "        vertical-align: middle;\n",
       "    }\n",
       "\n",
       "    .dataframe tbody tr th {\n",
       "        vertical-align: top;\n",
       "    }\n",
       "\n",
       "    .dataframe thead th {\n",
       "        text-align: right;\n",
       "    }\n",
       "</style>\n",
       "<table border=\"1\" class=\"dataframe\">\n",
       "  <thead>\n",
       "    <tr style=\"text-align: right;\">\n",
       "      <th></th>\n",
       "      <th>article_id</th>\n",
       "      <th>product_desc</th>\n",
       "      <th>product_url</th>\n",
       "      <th>image_url</th>\n",
       "    </tr>\n",
       "  </thead>\n",
       "  <tbody>\n",
       "    <tr>\n",
       "      <th>0</th>\n",
       "      <td>1160705014</td>\n",
       "      <td>2-delat set i bomull - Ljusbeige/Vit/Blommig/V...</td>\n",
       "      <td>https://www2.hm.com/sv_se/productpage.11607050...</td>\n",
       "      <td>https://image.hm.com/assets/hm/8a/e3/8ae392b91...</td>\n",
       "    </tr>\n",
       "    <tr>\n",
       "      <th>1</th>\n",
       "      <td>1160705013</td>\n",
       "      <td>2-delat set i bomull - Vit/Blommig/Ljusbeige/V...</td>\n",
       "      <td>https://www2.hm.com/sv_se/productpage.11607050...</td>\n",
       "      <td>https://image.hm.com/assets/hm/b5/5b/b55ba1983...</td>\n",
       "    </tr>\n",
       "    <tr>\n",
       "      <th>2</th>\n",
       "      <td>1224620004</td>\n",
       "      <td>Mönstrad romper i muslin - Vit/Blommig/Vit/Blo...</td>\n",
       "      <td>https://www2.hm.com/sv_se/productpage.12246200...</td>\n",
       "      <td>https://image.hm.com/assets/hm/07/a8/07a8bb1b0...</td>\n",
       "    </tr>\n",
       "    <tr>\n",
       "      <th>3</th>\n",
       "      <td>1281158002</td>\n",
       "      <td>2-delat muslinset med omlott - Ljusbeige/Blomm...</td>\n",
       "      <td>https://www2.hm.com/sv_se/productpage.12811580...</td>\n",
       "      <td>https://image.hm.com/assets/hm/12/e3/12e36985d...</td>\n",
       "    </tr>\n",
       "    <tr>\n",
       "      <th>4</th>\n",
       "      <td>1218179012</td>\n",
       "      <td>Bodyklänning med volanger - Vit/Blommig/Crèmev...</td>\n",
       "      <td>https://www2.hm.com/sv_se/productpage.12181790...</td>\n",
       "      <td>https://image.hm.com/assets/hm/6a/98/6a9861989...</td>\n",
       "    </tr>\n",
       "  </tbody>\n",
       "</table>\n",
       "</div>"
      ],
      "text/plain": [
       "   article_id                                       product_desc  \\\n",
       "0  1160705014  2-delat set i bomull - Ljusbeige/Vit/Blommig/V...   \n",
       "1  1160705013  2-delat set i bomull - Vit/Blommig/Ljusbeige/V...   \n",
       "2  1224620004  Mönstrad romper i muslin - Vit/Blommig/Vit/Blo...   \n",
       "3  1281158002  2-delat muslinset med omlott - Ljusbeige/Blomm...   \n",
       "4  1218179012  Bodyklänning med volanger - Vit/Blommig/Crèmev...   \n",
       "\n",
       "                                         product_url  \\\n",
       "0  https://www2.hm.com/sv_se/productpage.11607050...   \n",
       "1  https://www2.hm.com/sv_se/productpage.11607050...   \n",
       "2  https://www2.hm.com/sv_se/productpage.12246200...   \n",
       "3  https://www2.hm.com/sv_se/productpage.12811580...   \n",
       "4  https://www2.hm.com/sv_se/productpage.12181790...   \n",
       "\n",
       "                                           image_url  \n",
       "0  https://image.hm.com/assets/hm/8a/e3/8ae392b91...  \n",
       "1  https://image.hm.com/assets/hm/b5/5b/b55ba1983...  \n",
       "2  https://image.hm.com/assets/hm/07/a8/07a8bb1b0...  \n",
       "3  https://image.hm.com/assets/hm/12/e3/12e36985d...  \n",
       "4  https://image.hm.com/assets/hm/6a/98/6a9861989...  "
      ]
     },
     "execution_count": 4,
     "metadata": {},
     "output_type": "execute_result"
    }
   ],
   "source": [
    "df =pd.read_csv(\"0_scrape_hm/articles.csv\", dtype=str)\n",
    "df.head()"
   ]
  },
  {
   "cell_type": "markdown",
   "metadata": {},
   "source": [
    "## Clean Data"
   ]
  },
  {
   "cell_type": "markdown",
   "metadata": {},
   "source": [
    "### Remove items with no image"
   ]
  },
  {
   "cell_type": "code",
   "execution_count": 7,
   "metadata": {},
   "outputs": [
    {
     "data": {
      "application/vnd.jupyter.widget-view+json": {
       "model_id": "e76a67356c9b45099df0c7568de7d171",
       "version_major": 2,
       "version_minor": 0
      },
      "text/plain": [
       "  0%|          | 0/22741 [00:00<?, ?it/s]"
      ]
     },
     "metadata": {},
     "output_type": "display_data"
    },
    {
     "name": "stdout",
     "output_type": "stream",
     "text": [
      "items before dropping:  22741\n",
      "items after dropping:  22730\n"
     ]
    }
   ],
   "source": [
    "dir = \"0_scrape_hm/images/\"\n",
    "\n",
    "\n",
    "valid_images = []\n",
    "for index in tqdm(range(len(df))):\n",
    "    subdir = f\"{df['article_id'][index]}.jpg\"\n",
    "    if os.path.isfile(dir+subdir):\n",
    "        valid_images.append(True)\n",
    "    else:\n",
    "        valid_images.append(False)\n",
    "\n",
    "df[\"valid_image\"] = valid_images\n",
    "df_dropped=df[df[\"valid_image\"]==True].copy()\n",
    "\n",
    "\n",
    "#Reset index\n",
    "print(\"items before dropping: \", len(df))\n",
    "df_dropped.drop(columns=\"valid_image\", inplace=True)\n",
    "df_dropped= df_dropped.reset_index().drop(columns=\"index\")\n",
    "print(\"items after dropping: \", len(df_dropped))"
   ]
  },
  {
   "cell_type": "markdown",
   "metadata": {},
   "source": [
    "## add links to images"
   ]
  },
  {
   "cell_type": "code",
   "execution_count": 8,
   "metadata": {},
   "outputs": [
    {
     "data": {
      "text/plain": [
       "'URL = \"https://d11p8vtjlacpl4.cloudfront.net/kaggle-hm-images/{}/{}.jpg\"\\nlinks = [URL.format(df_dropped[\\'article_id\\'][index][0:3], df_dropped[\\'article_id\\'][index]) for index in range(len(df_dropped))]\\ndf_dropped[\"image\"] = links\\ndf_dropped'"
      ]
     },
     "execution_count": 8,
     "metadata": {},
     "output_type": "execute_result"
    }
   ],
   "source": [
    "\"\"\"URL = \"https://d11p8vtjlacpl4.cloudfront.net/kaggle-hm-images/{}/{}.jpg\"\n",
    "links = [URL.format(df_dropped['article_id'][index][0:3], df_dropped['article_id'][index]) for index in range(len(df_dropped))]\n",
    "df_dropped[\"image\"] = links\n",
    "df_dropped\"\"\"\n",
    "\n",
    "#Now done on client side"
   ]
  },
  {
   "cell_type": "markdown",
   "metadata": {},
   "source": [
    "## Add href to h&m page"
   ]
  },
  {
   "cell_type": "code",
   "execution_count": 9,
   "metadata": {},
   "outputs": [
    {
     "data": {
      "text/plain": [
       "'item_URL = \"https://www2.hm.com/en_gb/productpage.{}.html\"\\n\\nitem_links = []\\nfor index in tqdm(range(len(df_dropped))):\\n    item_links.append(item_URL.format(df_dropped[\\'article_id\\'][index]))\\ndf_dropped[\"item_link\"] = item_links\\ndf_dropped'"
      ]
     },
     "execution_count": 9,
     "metadata": {},
     "output_type": "execute_result"
    }
   ],
   "source": [
    "\"\"\"item_URL = \"https://www2.hm.com/en_gb/productpage.{}.html\"\n",
    "\n",
    "item_links = []\n",
    "for index in tqdm(range(len(df_dropped))):\n",
    "    item_links.append(item_URL.format(df_dropped['article_id'][index]))\n",
    "df_dropped[\"item_link\"] = item_links\n",
    "df_dropped\"\"\"\n",
    "\n",
    "\n",
    "#Now done on client side"
   ]
  },
  {
   "cell_type": "code",
   "execution_count": 10,
   "metadata": {},
   "outputs": [
    {
     "data": {
      "text/html": [
       "<div>\n",
       "<style scoped>\n",
       "    .dataframe tbody tr th:only-of-type {\n",
       "        vertical-align: middle;\n",
       "    }\n",
       "\n",
       "    .dataframe tbody tr th {\n",
       "        vertical-align: top;\n",
       "    }\n",
       "\n",
       "    .dataframe thead th {\n",
       "        text-align: right;\n",
       "    }\n",
       "</style>\n",
       "<table border=\"1\" class=\"dataframe\">\n",
       "  <thead>\n",
       "    <tr style=\"text-align: right;\">\n",
       "      <th></th>\n",
       "      <th>article_id</th>\n",
       "      <th>prod_name</th>\n",
       "      <th>product_type_name</th>\n",
       "      <th>product_group_name</th>\n",
       "      <th>color</th>\n",
       "      <th>index_group_name</th>\n",
       "    </tr>\n",
       "  </thead>\n",
       "  <tbody>\n",
       "    <tr>\n",
       "      <th>0</th>\n",
       "      <td>0108775015</td>\n",
       "      <td>Strap top</td>\n",
       "      <td>Vest top</td>\n",
       "      <td>Garment Upper body</td>\n",
       "      <td>Black</td>\n",
       "      <td>Ladieswear</td>\n",
       "    </tr>\n",
       "    <tr>\n",
       "      <th>1</th>\n",
       "      <td>0108775044</td>\n",
       "      <td>Strap top</td>\n",
       "      <td>Vest top</td>\n",
       "      <td>Garment Upper body</td>\n",
       "      <td>White</td>\n",
       "      <td>Ladieswear</td>\n",
       "    </tr>\n",
       "    <tr>\n",
       "      <th>2</th>\n",
       "      <td>0108775051</td>\n",
       "      <td>Strap top (1)</td>\n",
       "      <td>Vest top</td>\n",
       "      <td>Garment Upper body</td>\n",
       "      <td>White</td>\n",
       "      <td>Ladieswear</td>\n",
       "    </tr>\n",
       "    <tr>\n",
       "      <th>3</th>\n",
       "      <td>0110065001</td>\n",
       "      <td>OP T-shirt (Idro)</td>\n",
       "      <td>Bra</td>\n",
       "      <td>Underwear</td>\n",
       "      <td>Black</td>\n",
       "      <td>Ladieswear</td>\n",
       "    </tr>\n",
       "    <tr>\n",
       "      <th>4</th>\n",
       "      <td>0110065002</td>\n",
       "      <td>OP T-shirt (Idro)</td>\n",
       "      <td>Bra</td>\n",
       "      <td>Underwear</td>\n",
       "      <td>White</td>\n",
       "      <td>Ladieswear</td>\n",
       "    </tr>\n",
       "    <tr>\n",
       "      <th>...</th>\n",
       "      <td>...</td>\n",
       "      <td>...</td>\n",
       "      <td>...</td>\n",
       "      <td>...</td>\n",
       "      <td>...</td>\n",
       "      <td>...</td>\n",
       "    </tr>\n",
       "    <tr>\n",
       "      <th>104830</th>\n",
       "      <td>0953450001</td>\n",
       "      <td>5pk regular Placement1</td>\n",
       "      <td>Socks</td>\n",
       "      <td>Socks &amp; Tights</td>\n",
       "      <td>Black</td>\n",
       "      <td>Menswear</td>\n",
       "    </tr>\n",
       "    <tr>\n",
       "      <th>104831</th>\n",
       "      <td>0953763001</td>\n",
       "      <td>SPORT Malaga tank</td>\n",
       "      <td>Vest top</td>\n",
       "      <td>Garment Upper body</td>\n",
       "      <td>Black</td>\n",
       "      <td>Ladieswear</td>\n",
       "    </tr>\n",
       "    <tr>\n",
       "      <th>104832</th>\n",
       "      <td>0956217002</td>\n",
       "      <td>Cartwheel dress</td>\n",
       "      <td>Dress</td>\n",
       "      <td>Garment Full body</td>\n",
       "      <td>Black</td>\n",
       "      <td>Ladieswear</td>\n",
       "    </tr>\n",
       "    <tr>\n",
       "      <th>104833</th>\n",
       "      <td>0957375001</td>\n",
       "      <td>CLAIRE HAIR CLAW</td>\n",
       "      <td>Hair clip</td>\n",
       "      <td>Accessories</td>\n",
       "      <td>Black</td>\n",
       "      <td>Divided</td>\n",
       "    </tr>\n",
       "    <tr>\n",
       "      <th>104834</th>\n",
       "      <td>0959461001</td>\n",
       "      <td>Lounge dress</td>\n",
       "      <td>Dress</td>\n",
       "      <td>Garment Full body</td>\n",
       "      <td>White</td>\n",
       "      <td>Ladieswear</td>\n",
       "    </tr>\n",
       "  </tbody>\n",
       "</table>\n",
       "<p>104835 rows × 6 columns</p>\n",
       "</div>"
      ],
      "text/plain": [
       "        article_id               prod_name product_type_name  \\\n",
       "0       0108775015               Strap top          Vest top   \n",
       "1       0108775044               Strap top          Vest top   \n",
       "2       0108775051           Strap top (1)          Vest top   \n",
       "3       0110065001       OP T-shirt (Idro)               Bra   \n",
       "4       0110065002       OP T-shirt (Idro)               Bra   \n",
       "...            ...                     ...               ...   \n",
       "104830  0953450001  5pk regular Placement1             Socks   \n",
       "104831  0953763001       SPORT Malaga tank          Vest top   \n",
       "104832  0956217002         Cartwheel dress             Dress   \n",
       "104833  0957375001        CLAIRE HAIR CLAW         Hair clip   \n",
       "104834  0959461001            Lounge dress             Dress   \n",
       "\n",
       "        product_group_name  color index_group_name  \n",
       "0       Garment Upper body  Black       Ladieswear  \n",
       "1       Garment Upper body  White       Ladieswear  \n",
       "2       Garment Upper body  White       Ladieswear  \n",
       "3                Underwear  Black       Ladieswear  \n",
       "4                Underwear  White       Ladieswear  \n",
       "...                    ...    ...              ...  \n",
       "104830      Socks & Tights  Black         Menswear  \n",
       "104831  Garment Upper body  Black       Ladieswear  \n",
       "104832   Garment Full body  Black       Ladieswear  \n",
       "104833         Accessories  Black          Divided  \n",
       "104834   Garment Full body  White       Ladieswear  \n",
       "\n",
       "[104835 rows x 6 columns]"
      ]
     },
     "execution_count": 10,
     "metadata": {},
     "output_type": "execute_result"
    }
   ],
   "source": [
    "df_dropped"
   ]
  },
  {
   "cell_type": "markdown",
   "metadata": {},
   "source": [
    "## Save to csv"
   ]
  },
  {
   "cell_type": "code",
   "execution_count": 11,
   "metadata": {},
   "outputs": [],
   "source": [
    "df_dropped.to_csv(\"H&M_items.csv\", index=False)"
   ]
  },
  {
   "cell_type": "code",
   "execution_count": 12,
   "metadata": {},
   "outputs": [
    {
     "name": "stdout",
     "output_type": "stream",
     "text": [
      "42.526027 mb\n"
     ]
    }
   ],
   "source": [
    "import sys\n",
    "print(f\"{sys.getsizeof(df_dropped)/1000000} mb\")\n"
   ]
  },
  {
   "cell_type": "code",
   "execution_count": 13,
   "metadata": {},
   "outputs": [
    {
     "data": {
      "text/plain": [
       "(104835, 6)"
      ]
     },
     "execution_count": 13,
     "metadata": {},
     "output_type": "execute_result"
    }
   ],
   "source": [
    "df_dropped.shape"
   ]
  },
  {
   "cell_type": "code",
   "execution_count": null,
   "metadata": {},
   "outputs": [],
   "source": []
  }
 ],
 "metadata": {
  "kernelspec": {
   "display_name": "recommender",
   "language": "python",
   "name": "python3"
  },
  "language_info": {
   "codemirror_mode": {
    "name": "ipython",
    "version": 3
   },
   "file_extension": ".py",
   "mimetype": "text/x-python",
   "name": "python",
   "nbconvert_exporter": "python",
   "pygments_lexer": "ipython3",
   "version": "3.9.13"
  }
 },
 "nbformat": 4,
 "nbformat_minor": 2
}
