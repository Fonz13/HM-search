{
 "cells": [
  {
   "cell_type": "code",
   "execution_count": 1,
   "metadata": {},
   "outputs": [],
   "source": [
    "import pandas as pd\n",
    "import requests\n",
    "from PIL import Image\n",
    "from io import BytesIO\n",
    "from tqdm.notebook import tqdm\n",
    "from concurrent.futures import ThreadPoolExecutor\n",
    "from collections import Counter\n",
    "import os\n",
    "\n",
    "#request, pandas, pillow, tqdm\n"
   ]
  },
  {
   "cell_type": "code",
   "execution_count": 13,
   "metadata": {},
   "outputs": [
    {
     "data": {
      "text/html": [
       "<div>\n",
       "<style scoped>\n",
       "    .dataframe tbody tr th:only-of-type {\n",
       "        vertical-align: middle;\n",
       "    }\n",
       "\n",
       "    .dataframe tbody tr th {\n",
       "        vertical-align: top;\n",
       "    }\n",
       "\n",
       "    .dataframe thead th {\n",
       "        text-align: right;\n",
       "    }\n",
       "</style>\n",
       "<table border=\"1\" class=\"dataframe\">\n",
       "  <thead>\n",
       "    <tr style=\"text-align: right;\">\n",
       "      <th></th>\n",
       "      <th>article_id</th>\n",
       "      <th>product_desc</th>\n",
       "      <th>product_url</th>\n",
       "      <th>image_url</th>\n",
       "    </tr>\n",
       "  </thead>\n",
       "  <tbody>\n",
       "    <tr>\n",
       "      <th>0</th>\n",
       "      <td>1160705014</td>\n",
       "      <td>2-delat set i bomull - Ljusbeige/Vit/Blommig/V...</td>\n",
       "      <td>https://www2.hm.com/sv_se/productpage.11607050...</td>\n",
       "      <td>https://image.hm.com/assets/hm/8a/e3/8ae392b91...</td>\n",
       "    </tr>\n",
       "    <tr>\n",
       "      <th>1</th>\n",
       "      <td>1160705013</td>\n",
       "      <td>2-delat set i bomull - Vit/Blommig/Ljusbeige/V...</td>\n",
       "      <td>https://www2.hm.com/sv_se/productpage.11607050...</td>\n",
       "      <td>https://image.hm.com/assets/hm/b5/5b/b55ba1983...</td>\n",
       "    </tr>\n",
       "    <tr>\n",
       "      <th>2</th>\n",
       "      <td>1224620004</td>\n",
       "      <td>Mönstrad romper i muslin - Vit/Blommig/Vit/Blo...</td>\n",
       "      <td>https://www2.hm.com/sv_se/productpage.12246200...</td>\n",
       "      <td>https://image.hm.com/assets/hm/07/a8/07a8bb1b0...</td>\n",
       "    </tr>\n",
       "    <tr>\n",
       "      <th>3</th>\n",
       "      <td>1281158002</td>\n",
       "      <td>2-delat muslinset med omlott - Ljusbeige/Blomm...</td>\n",
       "      <td>https://www2.hm.com/sv_se/productpage.12811580...</td>\n",
       "      <td>https://image.hm.com/assets/hm/12/e3/12e36985d...</td>\n",
       "    </tr>\n",
       "    <tr>\n",
       "      <th>4</th>\n",
       "      <td>1218179012</td>\n",
       "      <td>Bodyklänning med volanger - Vit/Blommig/Crèmev...</td>\n",
       "      <td>https://www2.hm.com/sv_se/productpage.12181790...</td>\n",
       "      <td>https://image.hm.com/assets/hm/6a/98/6a9861989...</td>\n",
       "    </tr>\n",
       "  </tbody>\n",
       "</table>\n",
       "</div>"
      ],
      "text/plain": [
       "   article_id                                       product_desc  \\\n",
       "0  1160705014  2-delat set i bomull - Ljusbeige/Vit/Blommig/V...   \n",
       "1  1160705013  2-delat set i bomull - Vit/Blommig/Ljusbeige/V...   \n",
       "2  1224620004  Mönstrad romper i muslin - Vit/Blommig/Vit/Blo...   \n",
       "3  1281158002  2-delat muslinset med omlott - Ljusbeige/Blomm...   \n",
       "4  1218179012  Bodyklänning med volanger - Vit/Blommig/Crèmev...   \n",
       "\n",
       "                                         product_url  \\\n",
       "0  https://www2.hm.com/sv_se/productpage.11607050...   \n",
       "1  https://www2.hm.com/sv_se/productpage.11607050...   \n",
       "2  https://www2.hm.com/sv_se/productpage.12246200...   \n",
       "3  https://www2.hm.com/sv_se/productpage.12811580...   \n",
       "4  https://www2.hm.com/sv_se/productpage.12181790...   \n",
       "\n",
       "                                           image_url  \n",
       "0  https://image.hm.com/assets/hm/8a/e3/8ae392b91...  \n",
       "1  https://image.hm.com/assets/hm/b5/5b/b55ba1983...  \n",
       "2  https://image.hm.com/assets/hm/07/a8/07a8bb1b0...  \n",
       "3  https://image.hm.com/assets/hm/12/e3/12e36985d...  \n",
       "4  https://image.hm.com/assets/hm/6a/98/6a9861989...  "
      ]
     },
     "execution_count": 13,
     "metadata": {},
     "output_type": "execute_result"
    }
   ],
   "source": [
    "df =pd.read_csv(\"0_scrape_hm/articles.csv\", dtype=str)\n",
    "df.head()"
   ]
  },
  {
   "cell_type": "markdown",
   "metadata": {},
   "source": [
    "## Clean Data"
   ]
  },
  {
   "cell_type": "markdown",
   "metadata": {},
   "source": [
    "### Remove items with no image"
   ]
  },
  {
   "cell_type": "code",
   "execution_count": 14,
   "metadata": {},
   "outputs": [],
   "source": [
    "# set imwidth to make loading images faster\n",
    "df.image_url = df.image_url+\"?imwidth=500\"\n"
   ]
  },
  {
   "cell_type": "code",
   "execution_count": 15,
   "metadata": {},
   "outputs": [
    {
     "data": {
      "application/vnd.jupyter.widget-view+json": {
       "model_id": "8e1ef63f9d0248909151f2012e2658a2",
       "version_major": 2,
       "version_minor": 0
      },
      "text/plain": [
       "  0%|          | 0/22741 [00:00<?, ?it/s]"
      ]
     },
     "metadata": {},
     "output_type": "display_data"
    },
    {
     "name": "stdout",
     "output_type": "stream",
     "text": [
      "items before dropping:  22741\n",
      "items after dropping:  22729\n"
     ]
    }
   ],
   "source": [
    "from PIL import Image\n",
    "\n",
    "dir = \"0_scrape_hm/images/\"\n",
    "\n",
    "\n",
    "valid_images = []\n",
    "for index in tqdm(range(len(df))):\n",
    "    subdir = f\"{df['article_id'][index]}.jpg\"\n",
    "    path = os.path.join(dir, subdir)\n",
    "    if os.path.isfile(path):\n",
    "        try:\n",
    "            with Image.open(path) as img:\n",
    "                img.verify()  # Verify that it is a valid image\n",
    "            valid_images.append(True)\n",
    "        except (IOError, SyntaxError):\n",
    "            valid_images.append(False)\n",
    "    else:\n",
    "        valid_images.append(False)\n",
    "\n",
    "df[\"valid_image\"] = valid_images\n",
    "df_dropped=df[df[\"valid_image\"]==True].copy()\n",
    "\n",
    "\n",
    "#Reset index\n",
    "print(\"items before dropping: \", len(df))\n",
    "df_dropped.drop(columns=\"valid_image\", inplace=True)\n",
    "df_dropped= df_dropped.reset_index().drop(columns=\"index\")\n",
    "print(\"items after dropping: \", len(df_dropped))"
   ]
  },
  {
   "cell_type": "markdown",
   "metadata": {},
   "source": [
    "## Save to csv"
   ]
  },
  {
   "cell_type": "code",
   "execution_count": 16,
   "metadata": {},
   "outputs": [],
   "source": [
    "df_dropped.to_csv(\"H&M_items.csv\", index=False)\n",
    "df_dropped.to_csv(\"../api/data/H&M_items.csv\", index=False) # save to the api"
   ]
  },
  {
   "cell_type": "code",
   "execution_count": 5,
   "metadata": {},
   "outputs": [
    {
     "name": "stdout",
     "output_type": "stream",
     "text": [
      "10.419174 mb\n"
     ]
    }
   ],
   "source": [
    "import sys\n",
    "print(f\"{sys.getsizeof(df_dropped)/1000000} mb\")\n"
   ]
  },
  {
   "cell_type": "code",
   "execution_count": 6,
   "metadata": {},
   "outputs": [
    {
     "data": {
      "text/plain": [
       "(22729, 4)"
      ]
     },
     "execution_count": 6,
     "metadata": {},
     "output_type": "execute_result"
    }
   ],
   "source": [
    "df_dropped.shape"
   ]
  },
  {
   "cell_type": "code",
   "execution_count": null,
   "metadata": {},
   "outputs": [],
   "source": []
  }
 ],
 "metadata": {
  "kernelspec": {
   "display_name": "recommender",
   "language": "python",
   "name": "python3"
  },
  "language_info": {
   "codemirror_mode": {
    "name": "ipython",
    "version": 3
   },
   "file_extension": ".py",
   "mimetype": "text/x-python",
   "name": "python",
   "nbconvert_exporter": "python",
   "pygments_lexer": "ipython3",
   "version": "3.9.13"
  }
 },
 "nbformat": 4,
 "nbformat_minor": 2
}
